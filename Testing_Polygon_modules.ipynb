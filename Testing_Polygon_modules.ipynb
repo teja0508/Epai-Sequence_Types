{
 "cells": [
  {
   "cell_type": "markdown",
   "metadata": {},
   "source": [
    "## Testing the modules"
   ]
  },
  {
   "cell_type": "code",
   "execution_count": 2,
   "metadata": {},
   "outputs": [],
   "source": [
    "from Polygon_Sequence import Polygon_Sequence\n",
    "from Polygon import Polygon"
   ]
  },
  {
   "cell_type": "markdown",
   "metadata": {},
   "source": [
    "## Polygon"
   ]
  },
  {
   "cell_type": "code",
   "execution_count": 3,
   "metadata": {},
   "outputs": [],
   "source": [
    " p = Polygon(4,10)"
   ]
  },
  {
   "cell_type": "code",
   "execution_count": 4,
   "metadata": {},
   "outputs": [
    {
     "data": {
      "text/plain": [
       "Regular Convex Polygon with edges : 4 and circumradius : 10 "
      ]
     },
     "execution_count": 4,
     "metadata": {},
     "output_type": "execute_result"
    }
   ],
   "source": [
    "p"
   ]
  },
  {
   "cell_type": "code",
   "execution_count": 5,
   "metadata": {},
   "outputs": [
    {
     "name": "stdout",
     "output_type": "stream",
     "text": [
      "Circumradius : 10      \n",
      "Num Edges : 4        \n",
      "Num Vertices : 4       \n",
      "Perimeter :  56.568542494923804       \n",
      "Area : 200.00000000000003        \n",
      "Interior Angle : 90.0       \n",
      "Vertices : 4       \n",
      "Edge Length : 14.142135623730951       \n",
      "Apothem : 7.0710678118654755\n"
     ]
    }
   ],
   "source": [
    "print(f'Circumradius : {p.circumradius}\\\n",
    "      \\nNum Edges : {p.num_edges}  \\\n",
    "      \\nNum Vertices : {p.num_vertices} \\\n",
    "      \\nPerimeter :  {p.perimeter} \\\n",
    "      \\nArea : {p.area}  \\\n",
    "      \\nInterior Angle : {p.interior_angle} \\\n",
    "      \\nVertices : {p.num_vertices} \\\n",
    "      \\nEdge Length : {p.edge_length} \\\n",
    "      \\nApothem : {p.apothem}')"
   ]
  },
  {
   "cell_type": "code",
   "execution_count": 6,
   "metadata": {},
   "outputs": [],
   "source": [
    "p1 = Polygon(5,10)"
   ]
  },
  {
   "cell_type": "code",
   "execution_count": 7,
   "metadata": {},
   "outputs": [],
   "source": [
    "p2 = Polygon(10, 10)"
   ]
  },
  {
   "cell_type": "code",
   "execution_count": 8,
   "metadata": {},
   "outputs": [],
   "source": [
    "p3 = Polygon(5,10)"
   ]
  },
  {
   "cell_type": "code",
   "execution_count": 9,
   "metadata": {},
   "outputs": [
    {
     "data": {
      "text/plain": [
       "False"
      ]
     },
     "execution_count": 9,
     "metadata": {},
     "output_type": "execute_result"
    }
   ],
   "source": [
    "p1 == p2"
   ]
  },
  {
   "cell_type": "code",
   "execution_count": 10,
   "metadata": {},
   "outputs": [
    {
     "data": {
      "text/plain": [
       "False"
      ]
     },
     "execution_count": 10,
     "metadata": {},
     "output_type": "execute_result"
    }
   ],
   "source": [
    "p1 == p2"
   ]
  },
  {
   "cell_type": "code",
   "execution_count": 11,
   "metadata": {},
   "outputs": [
    {
     "data": {
      "text/plain": [
       "False"
      ]
     },
     "execution_count": 11,
     "metadata": {},
     "output_type": "execute_result"
    }
   ],
   "source": [
    "p1 > p2"
   ]
  },
  {
   "cell_type": "code",
   "execution_count": 12,
   "metadata": {},
   "outputs": [
    {
     "data": {
      "text/plain": [
       "True"
      ]
     },
     "execution_count": 12,
     "metadata": {},
     "output_type": "execute_result"
    }
   ],
   "source": [
    "p1 < p2"
   ]
  },
  {
   "cell_type": "markdown",
   "metadata": {},
   "source": [
    "## Polygon Sequence"
   ]
  },
  {
   "cell_type": "code",
   "execution_count": 13,
   "metadata": {},
   "outputs": [
    {
     "data": {
      "text/plain": [
       "Polygon Sequence::  Circumradius : 10 , Largest Number Of Edges: 3, length : 1"
      ]
     },
     "execution_count": 13,
     "metadata": {},
     "output_type": "execute_result"
    }
   ],
   "source": [
    "Polygon_Sequence(3,10)"
   ]
  },
  {
   "cell_type": "code",
   "execution_count": 14,
   "metadata": {},
   "outputs": [
    {
     "data": {
      "text/plain": [
       "Polygon Sequence::  Circumradius : 10 , Largest Number Of Edges: 4, length : 2"
      ]
     },
     "execution_count": 14,
     "metadata": {},
     "output_type": "execute_result"
    }
   ],
   "source": [
    "Polygon_Sequence(4,10)"
   ]
  },
  {
   "cell_type": "code",
   "execution_count": 15,
   "metadata": {},
   "outputs": [],
   "source": [
    "ps = Polygon_Sequence(25,10)"
   ]
  },
  {
   "cell_type": "code",
   "execution_count": 16,
   "metadata": {},
   "outputs": [
    {
     "data": {
      "text/plain": [
       "Polygon Sequence::  Circumradius : 10 , Largest Number Of Edges: 25, length : 23"
      ]
     },
     "execution_count": 16,
     "metadata": {},
     "output_type": "execute_result"
    }
   ],
   "source": [
    "ps"
   ]
  },
  {
   "cell_type": "code",
   "execution_count": 17,
   "metadata": {},
   "outputs": [
    {
     "data": {
      "text/plain": [
       "[Regular Convex Polygon with edges : 3 and circumradius : 10 ,\n",
       " Regular Convex Polygon with edges : 4 and circumradius : 10 ,\n",
       " Regular Convex Polygon with edges : 5 and circumradius : 10 ,\n",
       " Regular Convex Polygon with edges : 6 and circumradius : 10 ,\n",
       " Regular Convex Polygon with edges : 7 and circumradius : 10 ,\n",
       " Regular Convex Polygon with edges : 8 and circumradius : 10 ,\n",
       " Regular Convex Polygon with edges : 9 and circumradius : 10 ,\n",
       " Regular Convex Polygon with edges : 10 and circumradius : 10 ,\n",
       " Regular Convex Polygon with edges : 11 and circumradius : 10 ,\n",
       " Regular Convex Polygon with edges : 12 and circumradius : 10 ,\n",
       " Regular Convex Polygon with edges : 13 and circumradius : 10 ,\n",
       " Regular Convex Polygon with edges : 14 and circumradius : 10 ,\n",
       " Regular Convex Polygon with edges : 15 and circumradius : 10 ,\n",
       " Regular Convex Polygon with edges : 16 and circumradius : 10 ,\n",
       " Regular Convex Polygon with edges : 17 and circumradius : 10 ,\n",
       " Regular Convex Polygon with edges : 18 and circumradius : 10 ,\n",
       " Regular Convex Polygon with edges : 19 and circumradius : 10 ,\n",
       " Regular Convex Polygon with edges : 20 and circumradius : 10 ,\n",
       " Regular Convex Polygon with edges : 21 and circumradius : 10 ,\n",
       " Regular Convex Polygon with edges : 22 and circumradius : 10 ,\n",
       " Regular Convex Polygon with edges : 23 and circumradius : 10 ,\n",
       " Regular Convex Polygon with edges : 24 and circumradius : 10 ,\n",
       " Regular Convex Polygon with edges : 25 and circumradius : 10 ]"
      ]
     },
     "execution_count": 17,
     "metadata": {},
     "output_type": "execute_result"
    }
   ],
   "source": [
    "ps[:]"
   ]
  },
  {
   "cell_type": "code",
   "execution_count": 18,
   "metadata": {},
   "outputs": [
    {
     "data": {
      "text/plain": [
       "Regular Convex Polygon with edges : 25 and circumradius : 10 "
      ]
     },
     "execution_count": 18,
     "metadata": {},
     "output_type": "execute_result"
    }
   ],
   "source": [
    "ps[-1]"
   ]
  },
  {
   "cell_type": "code",
   "execution_count": 19,
   "metadata": {},
   "outputs": [
    {
     "data": {
      "text/plain": [
       "Regular Convex Polygon with edges : 24 and circumradius : 10 "
      ]
     },
     "execution_count": 19,
     "metadata": {},
     "output_type": "execute_result"
    }
   ],
   "source": [
    "ps[-2]"
   ]
  },
  {
   "cell_type": "code",
   "execution_count": 21,
   "metadata": {},
   "outputs": [
    {
     "data": {
      "text/plain": [
       "Regular Convex Polygon with edges : 3 and circumradius : 10 "
      ]
     },
     "execution_count": 21,
     "metadata": {},
     "output_type": "execute_result"
    }
   ],
   "source": [
    "ps[0]"
   ]
  },
  {
   "cell_type": "code",
   "execution_count": 22,
   "metadata": {},
   "outputs": [
    {
     "data": {
      "text/plain": [
       "Regular Convex Polygon with edges : 25 and circumradius : 10 "
      ]
     },
     "execution_count": 22,
     "metadata": {},
     "output_type": "execute_result"
    }
   ],
   "source": [
    "# Max _Efficient_Polygon\n",
    "ps.max_efficiency_polygon"
   ]
  },
  {
   "cell_type": "code",
   "execution_count": null,
   "metadata": {},
   "outputs": [],
   "source": []
  }
 ],
 "metadata": {
  "kernelspec": {
   "display_name": "Python 3",
   "language": "python",
   "name": "python3"
  },
  "language_info": {
   "codemirror_mode": {
    "name": "ipython",
    "version": 3
   },
   "file_extension": ".py",
   "mimetype": "text/x-python",
   "name": "python",
   "nbconvert_exporter": "python",
   "pygments_lexer": "ipython3",
   "version": "3.7.3"
  }
 },
 "nbformat": 4,
 "nbformat_minor": 4
}
